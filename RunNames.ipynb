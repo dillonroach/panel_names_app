{
 "cells": [
  {
   "cell_type": "markdown",
   "metadata": {},
   "source": [
    "# Quick Dashboarding With Panel\n",
    "\n",
    "A bespoke, polished data science dashboard can be a beautiful thing for anyone looking to make data-driven decisions. And yet, not every project can afford setting up elaborate dashboards that cost money and developer time.\n",
    "\n",
    "In this post, we show you how to construct a quick dashboard using [Panel](https://panel.holoviz.org/) & Python without ever leaving the comfort of your Jupyter notebook.\n",
    "\n",
    "For this example, we want to create a dynamic plot dashboard displaying historical trends of popular (user-supplied) baby names.\n",
    "\n",
    "While the historical trends of name registrations are not at the forefront of business decisions, similar name-indexed data queries could involve stock indexes, product names in your catalog (or a competitor's), or perhaps predictions of future trends for your named-apparel business."
   ]
  },
  {
   "cell_type": "code",
   "execution_count": null,
   "metadata": {},
   "outputs": [],
   "source": [
    "#%%HTML\n",
    "#<video controls=\"\" autoplay=\"\" name=\"media\" loop=\"\"><source src=\"panel_example.mp4\" type=\"video/mp4\"></video>"
   ]
  },
  {
   "cell_type": "markdown",
   "metadata": {},
   "source": [
    "This baby-name data originally comes from [the US Social Security open data](https://catalog.data.gov/dataset/baby-names-from-social-security-card-applications-national-level-data);\n",
    "we have modified it for ease of use and to off-load some pre-processing needed for the final plots.\n",
    "\n",
    "For each observation, we have preserved `Year`, `Name`, and `Gender` as features from the original data. We also have a feature `Normalized` that represents the percentage of all names within a given year.\n",
    "\n",
    "We could add names common to `M` & `F` genders - say `Dillon (M)` & `Dillon (F)` - but we leave them distinct here to preserve their individual trends.\n",
    "\n",
    "We present a random slice of the data below to build intuition."
   ]
  },
  {
   "cell_type": "code",
   "execution_count": null,
   "metadata": {},
   "outputs": [],
   "source": [
    "from IPython.core.display import display, HTML\n",
    "display(HTML(\"<style>.container { width:90% !important; }</style>\"))"
   ]
  },
  {
   "cell_type": "code",
   "execution_count": null,
   "metadata": {},
   "outputs": [],
   "source": [
    "import pandas\n",
    "import hvplot.pandas\n",
    "import panel\n",
    "\n",
    "df = pandas.read_csv(\"SSNames.csv\")\n",
    "df = df.set_index(\"index\")\n",
    "df.index.name = \"year\"\n",
    "left_panel_width=300\n",
    "\n",
    "panel.extension() #this call is neccessary to make panel behave inside jupyter"
   ]
  },
  {
   "cell_type": "code",
   "execution_count": null,
   "metadata": {},
   "outputs": [],
   "source": [
    "df.sample(10)"
   ]
  },
  {
   "cell_type": "markdown",
   "metadata": {},
   "source": [
    "With our data in hand, we first want to define a plotter function. This function produces plots of historical trends of registered baby names over a range of years with certain scalings (all user-specified). If you're unfamiliar with Python, it's enough to simply say that this function produces the plot we want without any interactive components. Without Panel, you can invoke this function yourself to generate plots in Jupyter using different input values supplied by hand."
   ]
  },
  {
   "cell_type": "code",
   "execution_count": null,
   "metadata": {},
   "outputs": [],
   "source": [
    "def plotter(names_list, names_list2, years, scale, scale2):\n",
    "    \n",
    "    ################\n",
    "    # Input cleaning\n",
    "    # Handles empty input(s), cleans format/capitalization for matching, builds lists\n",
    "    \n",
    "    if len(names_list) == 0:\n",
    "        names_list = \"No\"\n",
    "        names_list_f = \"No\"\n",
    "    else: \n",
    "        names_list_f = [x.strip().capitalize() for x in names_list.split(\",\")]\n",
    "        \n",
    "    if len(names_list2) == 0:\n",
    "        names_list2 = \"No\"\n",
    "        names_list2_f = \"No\"\n",
    "    else: \n",
    "        names_list2_f = [x.strip().capitalize() for x in names_list2.split(\",\")]\n",
    "\n",
    "    ###############\n",
    "    # Dataframe re-configure based on names input\n",
    "    # source used as preliminary dataframe stripped down to only input names, names converted to 'name (F/M)'\n",
    "    \n",
    "    test_frames = df[df['Name'].map(lambda x: x in names_list_f) & (df[\"Gender\"]=='M')]\n",
    "    test_frames2 = df[df['Name'].map(lambda x: x in names_list2_f) & (df[\"Gender\"]=='F')]\n",
    "    \n",
    "    frames = pandas.concat([test_frames,test_frames2])\n",
    "    frames[\"NameG\"] = frames.apply(lambda x: x[\"Name\"] + \" (\" + x[\"Gender\"] + \")\", axis=1)\n",
    "    frames.drop([\"Gender\",\"Name\"], inplace=True, axis=1)\n",
    "    frames.index.name = \"year\"\n",
    "    \n",
    "    listed_names = [i for i in pandas.DataFrame(frames.groupby(\"NameG\"))[0]]\n",
    "    \n",
    "    source = frames[frames[\"NameG\"]==names_list[0]].drop([\"NameG\",\"Normalized\"],axis=1).join([frames.groupby(\"NameG\").get_group(i).rename({\"Normalized\":i},axis=1).drop(\"NameG\", axis=1) for i in listed_names],how=\"outer\")\n",
    "    source = source.fillna(0)\n",
    "    \n",
    "    \n",
    "    ###############\n",
    "    # Conditional axis labeling based on optional checkboxes\n",
    "    # modifies data in source dataframe by optional metric(s)\n",
    "    # finally, returns hvplot objects that contain our final plots\n",
    "    \n",
    "    label = \"% of All Names\"\n",
    "    \n",
    "    if scale:\n",
    "        averages = source.join(yearly_average,how=\"outer\")\n",
    "        for i in listed_names:\n",
    "            source[i]=averages[i] / averages[\"Normalized\"]\n",
    "        label = \"% of Names / Yearly-Average\"\n",
    "    \n",
    "    if scale2:\n",
    "        averages2 = source.join(yearly_unique,how=\"outer\")\n",
    "        for i in listed_names:\n",
    "            source[i]=averages2[i] * averages2[\"Normalized\"] / 100000\n",
    "        if scale:\n",
    "            label = \"(% of Names / Yearly-Average) * Yearly-Uniques / 10^5\"\n",
    "        else:\n",
    "            label = \"% of Names * Yearly-Uniques / 10^5\"\n",
    "    \n",
    "    if \"No (F)\" in listed_names: listed_names.remove(\"No (F)\")\n",
    "    if \"No (M)\" in listed_names: listed_names.remove(\"No (M)\")\n",
    "    to_plot = source[(source.index>=years[0]) & (source.index<=years[1])]\n",
    "    \n",
    "    return to_plot.hvplot(x='year', y=(listed_names), alpha=0.04, kind='area', legend=\"top_left\", height=400, width=800, value_label=label) * to_plot.hvplot(x='year', y=(listed_names), kind='line', legend=\"top_left\", height=400, width=800, value_label=label).opts(toolbar=None)"
   ]
  },
  {
   "cell_type": "markdown",
   "metadata": {},
   "source": [
    "If calling `plotter` itself were enough, we'd be done. In this case, we want to share a plotting tool with a boss or friends. This means we want some interactive elements for our dashboard: *widgets*.\n",
    "\n",
    "Widgets are often the basic building blocks of a Panel dashboard. These components are familiar to anyone who has seen web forms previously. For the use-case here, we need only three types of Panel widget: `TextInput` (to enter names), a `RangeSlider` (to select the years to plot), and `Checkbox` (to toggle optional metrics)."
   ]
  },
  {
   "cell_type": "code",
   "execution_count": null,
   "metadata": {},
   "outputs": [],
   "source": [
    "tickers_male = panel.widgets.TextInput(name='Names (M)', value=\"Andrew\", placeholder='Enter Names Here', width=left_panel_width, margin=(100,30,0,10))\n",
    "\n",
    "tickers_female = panel.widgets.TextInput(name='Names (F)', placeholder='Enter Names Here', width=left_panel_width)\n",
    "tickers_female.value = \"Sarah\" # Alternative default value in original widget declaration\n",
    "\n",
    "years_range = panel.widgets.RangeSlider(\n",
    "    name='Years', start=1880, end=2018, value=(1880, 2018), step=1.0, width=left_panel_width)\n",
    "\n",
    "checkbox_year = panel.widgets.Checkbox(name='Scale by Yearly Average')\n",
    "checkbox_nunique = panel.widgets.Checkbox(name='Scale by Yearly Unique Name Entries')\n",
    "\n",
    "yearly_average = df.reset_index().groupby(\"year\").mean()\n",
    "yearly_unique = df.reset_index().groupby(\"year\").count()[\"Normalized\"] # this metric double-counts names both in M and F categories; a careful analysis might want to split them up."
   ]
  },
  {
   "cell_type": "markdown",
   "metadata": {},
   "source": [
    "The function `panel.interact` makes it straightforward to connect the plotter function with the preceding widgets. We simply supply the function (`plotter`) as the first input argument to `panel.interact`. The remaining input arguments associate widgets with `plotter`'s input arguments. Be certain that the widget output data types match with `plotter`'s requirements. For example, the input `years` should be a (sorted) list or tuple of two distinct integers; a `RangeSlider` with specified values  for `start` & `stop` provides a valid tuple.\n",
    "\n",
    "Panel also enables arranging elements of your dashboard with `Row` and `Column` objects. For instance, below, `dashboard[0]` contains all the input widgets, while `dashboard[1]` is the output of the plotter."
   ]
  },
  {
   "cell_type": "markdown",
   "metadata": {},
   "source": [
    "The addition of `.servable()` to your panel layout allows the entire notebook to be called by `$ panel serve <Notebook-Path>` from the command line (provided you have Panel installed). This allows multiple clients to connect to this service via web browsers."
   ]
  },
  {
   "cell_type": "code",
   "execution_count": null,
   "metadata": {},
   "outputs": [],
   "source": [
    "interact = panel.interact(plotter, names_list=tickers_male, names_list2=tickers_female, years=years_range, scale=checkbox_year, scale2=checkbox_nunique)\n",
    "\n",
    "html_pane = panel.pane.HTML(\"\"\"<h2 style=\"text-align:Center\">Social Security Names Plotter</h2>\"\"\", sizing_mode='stretch_width')\n",
    "html_pane2 = panel.pane.HTML(\"\"\"<h4 style=\"text-align:Center\">Names are not case-sensitive, and should be entered like: Andrew, Dillon, Travis <br><br> Hit enter in text field to re-render</h4>\"\"\", sizing_mode='stretch_width')\n",
    "\n",
    "panel.Row(\n",
    "    panel.Column(interact[0], html_pane2),\n",
    "    panel.Column(html_pane, interact[1]),\n",
    ").servable()"
   ]
  },
  {
   "cell_type": "markdown",
   "metadata": {},
   "source": [
    "There you have it&mdash;a quick and easy option for dashbording without breaking a sweat.  That's not all that Panel can do, but for a simple framework for getting a UI wrapped around your functions, it's hard to beat."
   ]
  },
  {
   "cell_type": "code",
   "execution_count": null,
   "metadata": {},
   "outputs": [],
   "source": []
  }
 ],
 "metadata": {
  "kernelspec": {
   "display_name": "Python 3",
   "language": "python",
   "name": "python3"
  },
  "language_info": {
   "codemirror_mode": {
    "name": "ipython",
    "version": 3
   },
   "file_extension": ".py",
   "mimetype": "text/x-python",
   "name": "python",
   "nbconvert_exporter": "python",
   "pygments_lexer": "ipython3",
   "version": "3.8.6"
  }
 },
 "nbformat": 4,
 "nbformat_minor": 4
}
